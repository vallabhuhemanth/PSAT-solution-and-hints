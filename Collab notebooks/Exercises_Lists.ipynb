{
  "nbformat": 4,
  "nbformat_minor": 0,
  "metadata": {
    "colab": {
      "name": "Exercises_Lists.ipynb",
      "provenance": [],
      "collapsed_sections": []
    },
    "kernelspec": {
      "name": "python3",
      "display_name": "Python 3"
    }
  },
  "cells": [
    {
      "cell_type": "markdown",
      "metadata": {
        "id": "ilPANn8vpAFI"
      },
      "source": [
        ""
      ]
    },
    {
      "cell_type": "markdown",
      "metadata": {
        "id": "Ctf2foDUpB-i"
      },
      "source": [
        "#VALLABHU HEMANTH\n",
        "#AM.EN.U4ELC21037"
      ]
    },
    {
      "cell_type": "code",
      "metadata": {
        "id": "E9yxrb2NpBpM"
      },
      "source": [
        ""
      ],
      "execution_count": null,
      "outputs": []
    },
    {
      "cell_type": "markdown",
      "metadata": {
        "id": "jggy_UtPuiLW"
      },
      "source": [
        "<br>\n",
        "&nbsp; <img src=\"https://www.amrita.edu/ahead/images/aheadlogosticky.svg\" alt=\"AMRITA AHEAD\" width=\"250\"> \n",
        "<table align=\"right\">\n",
        "  <td align=\"left\"><a href=\"https://colab.research.google.com/drive/1ansjrZnYl5Kcss-CRcBOBbYV8cKfFbhc\">Prev: Lists in Python</a></td>\n",
        "  <td align=\"right\"><a href=\"https://colab.research.google.com/drive/1Fnhkj7B59YNk7Y7UdhlHVMTXrXhPvPOm\">Next: Lists built-in functions</a></td>\n",
        "</table>\n",
        "\n",
        "# **Week 5 - Lab 5.2 - Simple Exercises on Lists**\n",
        "\n",
        "For all the exercises mentioned below, write your program in the code segment just below the problem statement. "
      ]
    },
    {
      "cell_type": "markdown",
      "metadata": {
        "id": "d-87D5SiKVa8"
      },
      "source": [
        "\n",
        "1. Write a program that returns True if the first and last numbers of the input list are same.<br>Accept [1,2,3] -> False, [1,2,3,1] -> True\n"
      ]
    },
    {
      "cell_type": "code",
      "metadata": {
        "id": "tjtbUQ9rpBPd"
      },
      "source": [
        ""
      ],
      "execution_count": null,
      "outputs": []
    },
    {
      "cell_type": "code",
      "metadata": {
        "id": "JDruhijoFf95",
        "colab": {
          "base_uri": "https://localhost:8080/"
        },
        "outputId": "7bed7da6-c88a-4e64-fc9b-3d9e81b69c9b"
      },
      "source": [
        "items = input()\n",
        "print(items[0] == items[-1])"
      ],
      "execution_count": null,
      "outputs": [
        {
          "output_type": "stream",
          "name": "stdout",
          "text": [
            "amrita\n",
            "True\n"
          ]
        }
      ]
    },
    {
      "cell_type": "markdown",
      "metadata": {
        "id": "iX6hpDWYFgqI"
      },
      "source": [
        "2. Write a program that returns the sum of the first and last numbers of a list.<br>\n",
        "Eg. [1,5,3,2,4] -> 1 + 4 = 5"
      ]
    },
    {
      "cell_type": "code",
      "metadata": {
        "id": "BJysYSCRGNbh"
      },
      "source": [
        ""
      ],
      "execution_count": null,
      "outputs": []
    },
    {
      "cell_type": "markdown",
      "metadata": {
        "id": "J5mebn_KJ3uy"
      },
      "source": [
        "3. Write a program that returns True if 9 appears as either first or a last element for a given list of numbers.\n",
        "<br>[1,3,4,9] → True, <br>[9,3,3,4,9] → True, <br>[3,4,3,4,9,1] → False."
      ]
    },
    {
      "cell_type": "code",
      "metadata": {
        "id": "cumdlIsjGOv3"
      },
      "source": [
        ""
      ],
      "execution_count": null,
      "outputs": []
    },
    {
      "cell_type": "markdown",
      "metadata": {
        "id": "6KMz2seGJ0LK"
      },
      "source": [
        "4. Write a program that checks if the given list is sorted. i.e. the elements are arranged in ascending order.<br>\n",
        "[3, 5, 6, 9, 10] → True<br>\n",
        "[3, 5, 9, 6, 10] → False\n"
      ]
    },
    {
      "cell_type": "code",
      "metadata": {
        "id": "Scog3XQJGPto"
      },
      "source": [
        ""
      ],
      "execution_count": null,
      "outputs": []
    },
    {
      "cell_type": "markdown",
      "metadata": {
        "id": "cm8JPoOlHh0-"
      },
      "source": [
        "5. Write a program that counts the number of odd numbers in a list.<br>\n",
        "[5, 32, 19, 4, 8, 0] → 2 since 5 and 19 are the only odd numbers"
      ]
    },
    {
      "cell_type": "code",
      "metadata": {
        "id": "TRc5O1odrPiR"
      },
      "source": [
        ""
      ],
      "execution_count": null,
      "outputs": []
    },
    {
      "cell_type": "markdown",
      "metadata": {
        "id": "NVUOtpvmrRDA"
      },
      "source": [
        "6. Write a program that prints all the numbers in a list which lie strictly within the range 25 and 50.<br>\n",
        "[9, 25, 45, 70, 33, 49] → 45, 33, 49"
      ]
    },
    {
      "cell_type": "code",
      "metadata": {
        "id": "suvYex6CsIyT"
      },
      "source": [
        ""
      ],
      "execution_count": null,
      "outputs": []
    },
    {
      "cell_type": "markdown",
      "metadata": {
        "id": "ozMGSAyJsJgD"
      },
      "source": [
        "7. Write a program to determine the second largest element (or maximum) of the list.<br>\n",
        "[9,25, 45,70,33,49] → 49"
      ]
    },
    {
      "cell_type": "code",
      "metadata": {
        "id": "Thcalh0IsoZf"
      },
      "source": [
        ""
      ],
      "execution_count": null,
      "outputs": []
    },
    {
      "cell_type": "markdown",
      "metadata": {
        "id": "MjhjlKK5srBP"
      },
      "source": [
        "8. A list/array is said to be unimodal if the elements keeps increasing to a peak and then starts decreasing. Write a program to determine if the given list is unimodal or not.<br>\n",
        "[2,3,5,6,4,2,1] → True<br>\n",
        "[2,3,5,6,7,9,1] → True<br>\n",
        "[2,3,5,6,7,8,9] → False (only increasing)<br>\n",
        "[2,3,5,6,4,7,1] → False (increasing, decreasing, again increasing)<br>"
      ]
    },
    {
      "cell_type": "code",
      "metadata": {
        "id": "0oV2wsi6Ztlc"
      },
      "source": [
        ""
      ],
      "execution_count": null,
      "outputs": []
    },
    {
      "cell_type": "markdown",
      "metadata": {
        "id": "nLCqvh95ZuWT"
      },
      "source": [
        "9. Write a program that takes a *list* and an element *key* as input and check if *key* is present in the *list*.<br>\n",
        "[2,3,5,6,4,2,1], 5 → True<br>\n",
        "[2,3,5,6,4,2,1], 8 → False"
      ]
    },
    {
      "cell_type": "code",
      "metadata": {
        "id": "2A4SKcgCbbXs"
      },
      "source": [
        ""
      ],
      "execution_count": null,
      "outputs": []
    },
    {
      "cell_type": "markdown",
      "metadata": {
        "id": "9A_3NFemvnON"
      },
      "source": [
        "10. Write a function that returns the given list in reverse order.\n",
        "<br>\n",
        "[1,2,3,4] → [4,3,2,1]"
      ]
    },
    {
      "cell_type": "code",
      "metadata": {
        "id": "u5KdPFI_w-0H"
      },
      "source": [
        ""
      ],
      "execution_count": null,
      "outputs": []
    },
    {
      "cell_type": "markdown",
      "metadata": {
        "id": "BVXw_OpwJw5a"
      },
      "source": [
        "\n",
        "11. For given two list of numbers a and b, return True if they have the same first element or they have the same last element. <br>\n",
        "[1, 2, 3], [7, 3] → True<br>\n",
        "[1, 2, 3], [7, 3, 2] → False\n",
        "<br>[1, 2, 3], [1, 3] → True"
      ]
    },
    {
      "cell_type": "code",
      "metadata": {
        "id": "dtDhnZI5w_0f"
      },
      "source": [
        ""
      ],
      "execution_count": null,
      "outputs": []
    },
    {
      "cell_type": "markdown",
      "metadata": {
        "id": "wX_yhZMzJtMk"
      },
      "source": [
        "12. Write a program that find the sum of all numbers in even indices for a given list.\n"
      ]
    },
    {
      "cell_type": "code",
      "metadata": {
        "id": "UupQX6YfxkGX"
      },
      "source": [
        ""
      ],
      "execution_count": null,
      "outputs": []
    },
    {
      "cell_type": "markdown",
      "metadata": {
        "id": "I5pn3SrMJpkq"
      },
      "source": [
        "13. Write a function to return list of numbers \"rotated left\" once. so [1, 2, 3] yields [2, 3, 1].\n",
        "<br>rotate_left([1, 2, 3]) → [2, 3, 1]\n",
        "<br>rotate_left([5, 11, 9]) → [11, 9, 5]\n",
        "<br>rotate_left([7, 0, 0]) → [0, 0, 7]"
      ]
    },
    {
      "cell_type": "markdown",
      "metadata": {
        "id": "OUYeRZ-iJmLa"
      },
      "source": [
        "14. Write a program for a given list of numbers, create a new list which contains only the odd numbers from the given list.\n",
        "<br>\n",
        "odd_list[3,6,8,10,11]) → [3,11]\n"
      ]
    },
    {
      "cell_type": "code",
      "metadata": {
        "id": "s5cQuZGpyZu_"
      },
      "source": [
        ""
      ],
      "execution_count": null,
      "outputs": []
    },
    {
      "cell_type": "markdown",
      "metadata": {
        "id": "JwDLNHklyi3a"
      },
      "source": [
        "15. Given a list of numbers with all of its elements sorted in non-descending order, determine and print the count of distinct elements in it.\n",
        "<br>\n",
        "[1 2 2 3 3 3] → 3\n",
        "<br>[1 2 3 4 5] → 5"
      ]
    },
    {
      "cell_type": "code",
      "metadata": {
        "id": "YWxS2HHVyah-"
      },
      "source": [
        ""
      ],
      "execution_count": null,
      "outputs": []
    },
    {
      "cell_type": "markdown",
      "metadata": {
        "id": "jNc_SD1j1T6Z"
      },
      "source": [
        "16. Given a list of numbers, swap adjacent items in pairs (A[0] with A[1], A[2] with A[3], etc.). Print the resulting list. If a list has an odd number of elements, leave the last element in place.<br>\n",
        "[1 2 3 4 5] → [2 1 4 3 5]\n",
        "<br>\n",
        "[4 5 3 4 2 3] → [5 4 4 3 3 2]"
      ]
    },
    {
      "cell_type": "code",
      "metadata": {
        "id": "EQ9CNEIuydbu"
      },
      "source": [
        ""
      ],
      "execution_count": null,
      "outputs": []
    },
    {
      "cell_type": "markdown",
      "metadata": {
        "id": "K8VKKWvE17jS"
      },
      "source": [
        "17. For the given list of distinct numbers, swap the largest and smallest elements.\n",
        "<br>\n",
        "[1,2,3,4,5] → [5,2,3,4,1]\n",
        "<br> [2,3,1,45,33] → [2,3,45,1,33]"
      ]
    },
    {
      "cell_type": "code",
      "metadata": {
        "id": "5nFrH9jqyiE2"
      },
      "source": [
        ""
      ],
      "execution_count": null,
      "outputs": []
    },
    {
      "cell_type": "markdown",
      "metadata": {
        "id": "W0CIn078yiv2"
      },
      "source": [
        "18. Write a program which takes a list of strings as input and concatenates them all into a single string.<br>\n",
        "['Hi', 'How','Are','You'] → 'HiHowAreYou'\n",
        "\n"
      ]
    },
    {
      "cell_type": "code",
      "metadata": {
        "id": "9ReWrW6xy-D-"
      },
      "source": [
        ""
      ],
      "execution_count": null,
      "outputs": []
    },
    {
      "cell_type": "markdown",
      "metadata": {
        "id": "8HIMGRrcy-zy"
      },
      "source": [
        "19. Write a program which takes a list of strings as input and concatenates them all into a single string with a space in between.<br>\n",
        "['Hi', 'How','Are','You'] → 'Hi How Are You'"
      ]
    },
    {
      "cell_type": "code",
      "metadata": {
        "id": "_y6YD7eXzdWJ"
      },
      "source": [
        ""
      ],
      "execution_count": null,
      "outputs": []
    },
    {
      "cell_type": "markdown",
      "metadata": {
        "id": "_tGRZi7uzeQ4"
      },
      "source": [
        "20. Write a program that takes a single string with whitespaces in between and tokenizes into a string list separated by space.\n",
        "'Hi,How,Are,You' → ['Hi', 'How', 'Are', 'You']"
      ]
    },
    {
      "cell_type": "code",
      "metadata": {
        "id": "pIddzHZk0fPI"
      },
      "source": [
        ""
      ],
      "execution_count": null,
      "outputs": []
    },
    {
      "cell_type": "markdown",
      "metadata": {
        "id": "dord5ue0wtgX"
      },
      "source": [
        "List is mutable unlike strings\n",
        "s = s.operation()\n",
        "l.operation()\n",
        "print(l)\n",
        "\n",
        "s= 'abc'\n",
        "print(abc)\n",
        "s = s.operation()\n",
        "print(s)"
      ]
    }
  ]
}