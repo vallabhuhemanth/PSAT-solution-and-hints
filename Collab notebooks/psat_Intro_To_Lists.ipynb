{
  "nbformat": 4,
  "nbformat_minor": 0,
  "metadata": {
    "colab": {
      "name": "psat_Intro_To_Lists.ipynb",
      "provenance": [],
      "collapsed_sections": []
    },
    "kernelspec": {
      "name": "python3",
      "display_name": "Python 3"
    },
    "language_info": {
      "name": "python"
    }
  },
  "cells": [
    {
      "cell_type": "markdown",
      "metadata": {
        "id": "hZg4BmDRnG92"
      },
      "source": [
        "<br>\n",
        "&nbsp; <img src=\"https://www.amrita.edu/ahead/images/aheadlogosticky.svg\" alt=\"AMRITA AHEAD\" width=\"250\"> \n",
        "<table align=\"right\">\n",
        "  <td align=\"left\"><a href=\"\"></a></td>\n",
        "  <td align=\"right\"><a href=\"https://colab.research.google.com/drive/1emqOnDFB5JI888wWgEiIkiLDqTd889tL\">Next: Simple exercises on Lists</a></td>\n",
        "</table>\n",
        "\n",
        "# **Week 5 - Lab 5.1 - A Gentle Introduction to Lists**\n",
        "\n",
        "Lists store an ordered collection of items."
      ]
    },
    {
      "cell_type": "markdown",
      "metadata": {
        "id": "W1ZL2PXS_h0i"
      },
      "source": [
        "### 1a. Creating an empty list"
      ]
    },
    {
      "cell_type": "code",
      "metadata": {
        "id": "Fg_ZRBVMnFX1",
        "colab": {
          "base_uri": "https://localhost:8080/"
        },
        "outputId": "d79b5b81-9ff3-4c97-fc28-64440a550181"
      },
      "source": [
        "items = []\n",
        "print(items)"
      ],
      "execution_count": null,
      "outputs": [
        {
          "output_type": "stream",
          "name": "stdout",
          "text": [
            "[]\n"
          ]
        }
      ]
    },
    {
      "cell_type": "markdown",
      "metadata": {
        "id": "zbcE-Pjxpqte"
      },
      "source": [
        "### 1b. Creating a list of integers"
      ]
    },
    {
      "cell_type": "code",
      "metadata": {
        "colab": {
          "base_uri": "https://localhost:8080/"
        },
        "id": "rKgruaFQp2lV",
        "outputId": "49460e43-a11b-4c41-a7e3-bd35d03c0576"
      },
      "source": [
        "items = [2,5,3,1,4, 7]\n",
        "print(items)"
      ],
      "execution_count": null,
      "outputs": [
        {
          "output_type": "stream",
          "name": "stdout",
          "text": [
            "[2, 5, 3, 1, 4, 7]\n"
          ]
        }
      ]
    },
    {
      "cell_type": "markdown",
      "metadata": {
        "id": "Sd6G1zIVqqhW"
      },
      "source": [
        "### 1c. Creating a list of floating point numbers"
      ]
    },
    {
      "cell_type": "code",
      "metadata": {
        "colab": {
          "base_uri": "https://localhost:8080/"
        },
        "id": "5-EP7JinqxUb",
        "outputId": "91b1c377-d7c9-41df-e6ab-381ccdde8b3d"
      },
      "source": [
        "items = [1.5, 22/7, 1.414, 2.81]\n",
        "print(items)"
      ],
      "execution_count": null,
      "outputs": [
        {
          "output_type": "stream",
          "name": "stdout",
          "text": [
            "[1.5, 3.142857142857143, 1.414, 2.81]\n",
            "<class 'list'>\n"
          ]
        }
      ]
    },
    {
      "cell_type": "markdown",
      "metadata": {
        "id": "40leWf7TrljN"
      },
      "source": [
        "### 1d. Creating a list of strings\n"
      ]
    },
    {
      "cell_type": "code",
      "metadata": {
        "colab": {
          "base_uri": "https://localhost:8080/"
        },
        "id": "kIpJXdn5r74N",
        "outputId": "d6d6337b-e2c1-4146-b943-a945f00539d2"
      },
      "source": [
        "items = ['Amrita', 'Online', 'BCA', 'PSAT']\n",
        "print(items)"
      ],
      "execution_count": null,
      "outputs": [
        {
          "output_type": "stream",
          "text": [
            "['Amrita', 'Online', 'BCA', 'PSAT']\n"
          ],
          "name": "stdout"
        }
      ]
    },
    {
      "cell_type": "markdown",
      "metadata": {
        "id": "MgvbYH7-sku1"
      },
      "source": [
        "### 1e. Creating a mixed list\n",
        "\n",
        "Python lists are versatile. The items can be of different types. We will not focus on this type of lists."
      ]
    },
    {
      "cell_type": "code",
      "metadata": {
        "colab": {
          "base_uri": "https://localhost:8080/"
        },
        "id": "tls9U5Wds4hW",
        "outputId": "f21a2cb3-0749-45a7-86ce-5379d2f59c7d"
      },
      "source": [
        "items = ['Amrita', 25, 5.6, 'Trivandrum']\n",
        "print(items)"
      ],
      "execution_count": null,
      "outputs": [
        {
          "output_type": "stream",
          "name": "stdout",
          "text": [
            "['Amrita', 25, 5.6, 'Trivandrum']\n"
          ]
        }
      ]
    },
    {
      "cell_type": "markdown",
      "metadata": {
        "id": "qTIuNVQhtK6l"
      },
      "source": [
        "### 1f. Creating a list of lists\n",
        "You can also create lists within a list. Again, we will not focus on this type of lists."
      ]
    },
    {
      "cell_type": "code",
      "metadata": {
        "colab": {
          "base_uri": "https://localhost:8080/"
        },
        "id": "u-GhmrcOtPyV",
        "outputId": "7958b4ec-0225-4994-9c3a-57503b98c9cb"
      },
      "source": [
        "items = ['Amrita', ['Ashok', 'Kumar'], 34, [23,'Feb',1995], 5.6]\n",
        "print(items)"
      ],
      "execution_count": null,
      "outputs": [
        {
          "output_type": "stream",
          "name": "stdout",
          "text": [
            "['Amrita', ['Ashok', 'Kumar'], 34, [23, 'Feb', 1995], 5.6]\n"
          ]
        }
      ]
    },
    {
      "cell_type": "markdown",
      "metadata": {
        "id": "iJABHNmFudT_"
      },
      "source": [
        "### 1g. Creating a list from variables"
      ]
    },
    {
      "cell_type": "code",
      "metadata": {
        "colab": {
          "base_uri": "https://localhost:8080/"
        },
        "id": "tgiZpFtFuqMF",
        "outputId": "90f7b7b5-7bd0-4fca-b733-46c149f7938a"
      },
      "source": [
        "name = 'Ashok'\n",
        "age = 25\n",
        "weight = 75  # kgs\n",
        "enrolled = True\n",
        "student = [name, age, weight, 'BCA', enrolled]\n",
        "print(student)"
      ],
      "execution_count": null,
      "outputs": [
        {
          "output_type": "stream",
          "name": "stdout",
          "text": [
            "['Kumar', 25, 75, 'BCA', True]\n"
          ]
        }
      ]
    },
    {
      "cell_type": "markdown",
      "metadata": {
        "id": "sKHvLdqZ597x"
      },
      "source": [
        "### 2a. Creating a list from user input\n",
        "\n",
        "Get the input list, split them based on whitespace, convert them to int type and finally create a list out of them."
      ]
    },
    {
      "cell_type": "code",
      "metadata": {
        "id": "K0pS09jn6Q0q",
        "colab": {
          "base_uri": "https://localhost:8080/"
        },
        "outputId": "eedfd0bc-4edc-46ae-fcde-7a0e16f92be6"
      },
      "source": [
        "a = list( map(int,input().split()) )\n",
        "print(a)"
      ],
      "execution_count": null,
      "outputs": [
        {
          "output_type": "stream",
          "name": "stdout",
          "text": [
            "8 6 3 9\n",
            "[8, 6, 3, 9]\n"
          ]
        }
      ]
    },
    {
      "cell_type": "markdown",
      "metadata": {
        "id": "IRIzAEOfVUTR"
      },
      "source": [
        "### 2b. Printing a list without brackets and comma\n",
        "\n"
      ]
    },
    {
      "cell_type": "code",
      "metadata": {
        "id": "jvyNNldTVZ_5",
        "colab": {
          "base_uri": "https://localhost:8080/"
        },
        "outputId": "14cfbece-da55-4f42-d9f6-83395a5c38bb"
      },
      "source": [
        "a = list( map(int,input().split()) )\n",
        "print(a)\n",
        "print(*a)\n"
      ],
      "execution_count": null,
      "outputs": [
        {
          "output_type": "stream",
          "name": "stdout",
          "text": [
            "8 5 9 2\n",
            "[8, 5, 9, 2]\n",
            "8 5 9 2\n"
          ]
        }
      ]
    },
    {
      "cell_type": "markdown",
      "metadata": {
        "id": "A-M3IbEAxkgN"
      },
      "source": [
        "### 3a. Accessing first item of a list"
      ]
    },
    {
      "cell_type": "code",
      "metadata": {
        "id": "NcIZxGyzxzgT",
        "colab": {
          "base_uri": "https://localhost:8080/"
        },
        "outputId": "b76e7393-e4ec-4726-dc2f-3f74408a00a2"
      },
      "source": [
        "items = [25,51,36,17,48]\n",
        "print(items[0])"
      ],
      "execution_count": null,
      "outputs": [
        {
          "output_type": "stream",
          "text": [
            "25\n"
          ],
          "name": "stdout"
        }
      ]
    },
    {
      "cell_type": "markdown",
      "metadata": {
        "id": "ZsMGmGtSyJ3e"
      },
      "source": [
        "### 3b. Accessing last item of a list\n",
        "Using -1 as index gives you the last item in the list."
      ]
    },
    {
      "cell_type": "code",
      "metadata": {
        "colab": {
          "base_uri": "https://localhost:8080/"
        },
        "id": "-d8ovqQfyS7E",
        "outputId": "6f56017b-bffb-464b-a176-032c323736d7"
      },
      "source": [
        "items = [25,51,36,17,48,50]\n",
        "print(items[-1])"
      ],
      "execution_count": null,
      "outputs": [
        {
          "output_type": "stream",
          "text": [
            "50\n"
          ],
          "name": "stdout"
        }
      ]
    },
    {
      "cell_type": "markdown",
      "metadata": {
        "id": "2fMGXXsDyqsu"
      },
      "source": [
        "### 3c. Finding the length of the list"
      ]
    },
    {
      "cell_type": "code",
      "metadata": {
        "id": "bK8Mr7b-ywBW",
        "colab": {
          "base_uri": "https://localhost:8080/"
        },
        "outputId": "a5c059fc-2f06-4e17-d702-b64f44d31605"
      },
      "source": [
        "items = [25,51,36,17,48,50]\n",
        "print(len(items))"
      ],
      "execution_count": null,
      "outputs": [
        {
          "output_type": "stream",
          "name": "stdout",
          "text": [
            "6\n"
          ]
        }
      ]
    },
    {
      "cell_type": "markdown",
      "metadata": {
        "id": "Z-XzROz-y3eW"
      },
      "source": [
        "### 3d. Accessing last item using length\n"
      ]
    },
    {
      "cell_type": "code",
      "metadata": {
        "colab": {
          "base_uri": "https://localhost:8080/"
        },
        "id": "whEL707_y2mO",
        "outputId": "fbc0f8d7-b8d9-405f-bfc4-8bf65423645d"
      },
      "source": [
        "items = [25,51,36,17,48]\n",
        "n = len(items)\n",
        "print(items[n-1])"
      ],
      "execution_count": null,
      "outputs": [
        {
          "output_type": "stream",
          "name": "stdout",
          "text": [
            "48\n"
          ]
        }
      ]
    },
    {
      "cell_type": "markdown",
      "metadata": {
        "id": "9l96WxRmzXOF"
      },
      "source": [
        "### 3e. Accessing ith item of the list\n",
        "Let's try to get the item at position/index 3. Note that indexing starts from 0. Hence 17 is at position 3."
      ]
    },
    {
      "cell_type": "code",
      "metadata": {
        "id": "3wAlyb2mze-O",
        "colab": {
          "base_uri": "https://localhost:8080/"
        },
        "outputId": "09515385-4125-41c4-aee2-22d8785cb6e6"
      },
      "source": [
        "items = [25,51,36,17,48]\n",
        "print(items[3])"
      ],
      "execution_count": null,
      "outputs": [
        {
          "output_type": "stream",
          "name": "stdout",
          "text": [
            "17\n"
          ]
        }
      ]
    },
    {
      "cell_type": "markdown",
      "metadata": {
        "id": "4DVmLwe5z3W-"
      },
      "source": [
        "### 3f. Iterating through the list "
      ]
    },
    {
      "cell_type": "code",
      "metadata": {
        "id": "Vgwg7JlLz8ZV",
        "colab": {
          "base_uri": "https://localhost:8080/"
        },
        "outputId": "e0c54905-9aa5-46f0-b461-cdbc86cfe6ac"
      },
      "source": [
        "items = [25,51,33,17,48]\n",
        "n = len(items)\n",
        "for i in range(n) : # start from 0 go until n-1\n",
        "  print(items[i])"
      ],
      "execution_count": null,
      "outputs": [
        {
          "output_type": "stream",
          "name": "stdout",
          "text": [
            "25\n",
            "51\n",
            "33\n",
            "17\n",
            "48\n"
          ]
        }
      ]
    },
    {
      "cell_type": "markdown",
      "metadata": {
        "id": "1E_GZDLR0XJN"
      },
      "source": [
        "### 3g. Iterating through the list reverse way"
      ]
    },
    {
      "cell_type": "code",
      "metadata": {
        "id": "byDyI1730bq1",
        "colab": {
          "base_uri": "https://localhost:8080/"
        },
        "outputId": "d94e524a-44cc-49b1-afae-29cdedd30e57"
      },
      "source": [
        "items = [25,51,36,17,48, 51]\n",
        "n = len(items)\n",
        "for i in range(n-1,-1,-1) :  # Start from n-1, count until 0, taking 1 step backwards\n",
        "  print(items[i])"
      ],
      "execution_count": null,
      "outputs": [
        {
          "output_type": "stream",
          "name": "stdout",
          "text": [
            "51\n",
            "48\n",
            "17\n",
            "36\n",
            "51\n",
            "25\n"
          ]
        }
      ]
    },
    {
      "cell_type": "markdown",
      "metadata": {
        "id": "No-0UPAMhoj3"
      },
      "source": [
        "### 4a. Modifying an element of a list\n",
        "Lists are mutable. Therefore, they can be modified."
      ]
    },
    {
      "cell_type": "code",
      "metadata": {
        "id": "wmwTf4yXh3U6",
        "colab": {
          "base_uri": "https://localhost:8080/"
        },
        "outputId": "479a118a-4cfb-4a9b-a568-e16f09fe1caa"
      },
      "source": [
        "items = [25,51,36,17,48]\n",
        "print(items)\n",
        "items[0] = 20\n",
        "print(items)"
      ],
      "execution_count": null,
      "outputs": [
        {
          "output_type": "stream",
          "name": "stdout",
          "text": [
            "[25, 51, 36, 17, 48]\n",
            "[20, 51, 36, 17, 48]\n"
          ]
        }
      ]
    },
    {
      "cell_type": "markdown",
      "metadata": {
        "id": "FTSOs5Bwzx_Y"
      },
      "source": [
        "### 4b. Modifying every element of the list"
      ]
    },
    {
      "cell_type": "code",
      "metadata": {
        "id": "z0mzHqyd01xu",
        "colab": {
          "base_uri": "https://localhost:8080/"
        },
        "outputId": "002bcf9c-1439-4e38-e385-aa906739abbb"
      },
      "source": [
        "items = [3, 5, 4, 7, 6]\n",
        "print(items)\n",
        "\n",
        "def square() :\n",
        "  for i in range(len(items)) :\n",
        "    items[i] = items[i] * items[i]\n",
        "\n",
        "square()\n",
        "print(items)"
      ],
      "execution_count": null,
      "outputs": [
        {
          "output_type": "stream",
          "name": "stdout",
          "text": [
            "[3, 5, 4, 7, 6]\n",
            "[9, 25, 16, 49, 36]\n"
          ]
        }
      ]
    },
    {
      "cell_type": "markdown",
      "metadata": {
        "id": "a4tpA70811zJ"
      },
      "source": [
        "### 5a. Slicing the list\n",
        "Slicing the list can be done just like you do with strings."
      ]
    },
    {
      "cell_type": "code",
      "metadata": {
        "id": "sOqpZCmY2_nt",
        "colab": {
          "base_uri": "https://localhost:8080/"
        },
        "outputId": "691a089b-959f-4c0b-db01-011ab0ce1fad"
      },
      "source": [
        "items = [3, 5, 4, 7, 6]\n",
        "print(items[:2])\n",
        "print(items[2:])\n",
        "print(items[1:4])"
      ],
      "execution_count": null,
      "outputs": [
        {
          "output_type": "stream",
          "name": "stdout",
          "text": [
            "[3, 5]\n",
            "[4, 7, 6]\n",
            "[5, 4, 7]\n"
          ]
        }
      ]
    },
    {
      "cell_type": "markdown",
      "metadata": {
        "id": "Bjp9vary4MwK"
      },
      "source": [
        "### 5b. Concatenating two lists using + operator"
      ]
    },
    {
      "cell_type": "code",
      "metadata": {
        "id": "bfeonW2L3zLa",
        "colab": {
          "base_uri": "https://localhost:8080/"
        },
        "outputId": "2d92936c-1c3c-4f7d-93d0-9a0141fa6b63"
      },
      "source": [
        "list1 = [3, 5, 4, 7, 6]\n",
        "list2 = [2, 8, 0, 9, 1]\n",
        "list12 = list1 + list2\n",
        "print(list12)\n",
        "list21 = list2 + list1\n",
        "print(list21)\n"
      ],
      "execution_count": null,
      "outputs": [
        {
          "output_type": "stream",
          "name": "stdout",
          "text": [
            "[3, 5, 4, 7, 6, 2, 8, 0, 9, 1]\n",
            "[2, 8, 0, 9, 1, 3, 5, 4, 7, 6]\n"
          ]
        }
      ]
    },
    {
      "cell_type": "markdown",
      "metadata": {
        "id": "6-ufzNme4lJZ"
      },
      "source": [
        "### 5c. Slicing and concatenation together"
      ]
    },
    {
      "cell_type": "code",
      "metadata": {
        "id": "iJYA66Wt4psL",
        "colab": {
          "base_uri": "https://localhost:8080/"
        },
        "outputId": "1acb1cc4-51ea-4a3c-ed2d-9fb78b9a4a0b"
      },
      "source": [
        "list1 = [3, 5, 4, 7, 6]\n",
        "list2 = [2, 8, 0, 9, 1]\n",
        "list12 = list1[:2] + list2[2:]\n",
        "print(list12)"
      ],
      "execution_count": null,
      "outputs": [
        {
          "output_type": "stream",
          "name": "stdout",
          "text": [
            "[3, 5, 0, 9, 1]\n"
          ]
        }
      ]
    },
    {
      "cell_type": "markdown",
      "metadata": {
        "id": "YohUw8VSJeXa"
      },
      "source": [
        "## **Mutability vs. Immutability**"
      ]
    },
    {
      "cell_type": "code",
      "metadata": {
        "colab": {
          "base_uri": "https://localhost:8080/"
        },
        "id": "Unqk40_RJiZo",
        "outputId": "ec250040-d1e8-4554-d6f6-bd6914cf2ea1"
      },
      "source": [
        "str = \"Amrita\"\n",
        "n = len(str)\n",
        "str = str + \"CSE-D\"\n",
        "print(str)\n",
        "\n",
        "l = [1, 2, 3, 4]\n",
        "print(l)\n",
        "l.append(5)\n",
        "print(l)\n",
        "\n",
        "\n",
        "lista = [1, 2, 3]\n",
        "listb = lista\n",
        "listc = lista.copy()\n",
        "lista.append(10)\n",
        "print(lista)\n",
        "print(listb)\n",
        "print(listc)"
      ],
      "execution_count": null,
      "outputs": [
        {
          "output_type": "stream",
          "name": "stdout",
          "text": [
            "AmritaCSE-D\n",
            "[1, 2, 3, 4]\n",
            "[1, 2, 3, 4, 5]\n",
            "[1, 2, 3, 10]\n",
            "[1, 2, 3, 10]\n",
            "[1, 2, 3]\n"
          ]
        }
      ]
    }
  ]
}