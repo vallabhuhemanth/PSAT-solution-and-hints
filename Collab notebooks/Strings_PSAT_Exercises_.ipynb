{
  "nbformat": 4,
  "nbformat_minor": 0,
  "metadata": {
    "colab": {
      "name": "Strings PSAT_Exercises_.ipynb",
      "provenance": [],
      "collapsed_sections": []
    },
    "kernelspec": {
      "name": "python3",
      "display_name": "Python 3"
    }
  },
  "cells": [
    {
      "cell_type": "markdown",
      "metadata": {
        "id": "8M_ZW5GgoxQo"
      },
      "source": [
        "#Vallabhuhemanth\n",
        "#AM.EN.U4ELC21037\n",
        "#LABSHEET- STRINGS EXRECISES"
      ]
    },
    {
      "cell_type": "markdown",
      "metadata": {
        "id": "jggy_UtPuiLW"
      },
      "source": [
        "<br>\n",
        "&nbsp; <img src=\"https://www.amrita.edu/ahead/images/aheadlogosticky.svg\" alt=\"AMRITA AHEAD\" width=\"250\"> \n",
        "<table align=\"right\">\n",
        "  <td align=\"left\"><a href=\"https://colab.research.google.com/drive/1jZQ2k4t_jO-DF4ekyHkLAelEe5KoDwzI\">Prev: Strings in Python</a></td>\n",
        "  <td align=\"right\"><a href=\"https://colab.research.google.com/drive/1W3LjjmJj0kTjBUDx62PyUNFmJsMTjcfz\">Next: String built-in functions</a></td>\n",
        "</table>\n",
        "\n",
        "# **Week 4 - Lab 4.2 - Simple Exercises on Strings**\n",
        "\n",
        "For all the exercises mentioned below, write your program in the code segment just below the problem statement. Your program should print \"YES\" if the check succeeds (i.e. acceptable strings) and print \"NO\" otherwise."
      ]
    },
    {
      "cell_type": "markdown",
      "metadata": {
        "id": "d-87D5SiKVa8"
      },
      "source": [
        "\n",
        "1. Write a program that checks if the input string starts with char 'a'.<br>Accept a, amrita, ahead, algorithmic. Reject problem, solving, thinking."
      ]
    },
    {
      "cell_type": "code",
      "metadata": {
        "id": "AQGk6dznhViy",
        "colab": {
          "base_uri": "https://localhost:8080/"
        },
        "outputId": "4372d825-3cd8-4ef7-c3f6-a30b9fb34142"
      },
      "source": [
        "text = input()\n",
        "if text[0] == 'a' :\n",
        "  print('YES')\n",
        "else :\n",
        "  print('NO')"
      ],
      "execution_count": null,
      "outputs": [
        {
          "output_type": "stream",
          "name": "stdout",
          "text": [
            "a\n",
            "YES\n"
          ]
        }
      ]
    },
    {
      "cell_type": "markdown",
      "metadata": {
        "id": "J5mebn_KJ3uy"
      },
      "source": [
        "2. Write a program that checks if the input string starts and ends with the same char.<br>Accept amrita, xerox. Reject ahead, loop."
      ]
    },
    {
      "cell_type": "code",
      "metadata": {
        "id": "3nMRVuKmhW1K",
        "colab": {
          "base_uri": "https://localhost:8080/"
        },
        "outputId": "d70e1078-7e06-40f7-ff1c-2a7f591627d4"
      },
      "source": [
        "text = input()\n",
        "n = len(text)\n",
        "if (text[0]==text[n-1]):\n",
        "  print(\"Accepted\")\n",
        "else:\n",
        "  print(\"Rejected\")"
      ],
      "execution_count": null,
      "outputs": [
        {
          "output_type": "stream",
          "name": "stdout",
          "text": [
            "hemanth\n",
            "Accepted\n"
          ]
        }
      ]
    },
    {
      "cell_type": "markdown",
      "metadata": {
        "id": "6KMz2seGJ0LK"
      },
      "source": [
        "3. Write a program that checks if the input string does not end with the same char it starts with.<br>Accept ahead, loop. Reject amrita, xerox."
      ]
    },
    {
      "cell_type": "code",
      "metadata": {
        "id": "RUD0t6sGhX4I",
        "colab": {
          "base_uri": "https://localhost:8080/"
        },
        "outputId": "6c198fa3-4108-42fc-d9f1-f1a3b45b93e6"
      },
      "source": [
        "text = input()\n",
        "n = len(text)\n",
        "if(text[0]!=text[n-1]):\n",
        "  print(\"Accepted\")\n",
        "else:\n",
        "  print(\"Rejected\")"
      ],
      "execution_count": null,
      "outputs": [
        {
          "output_type": "stream",
          "name": "stdout",
          "text": [
            "haencol\n",
            "Accepted\n"
          ]
        }
      ]
    },
    {
      "cell_type": "code",
      "metadata": {
        "id": "pT-sYWkQotqv"
      },
      "source": [
        ""
      ],
      "execution_count": null,
      "outputs": []
    },
    {
      "cell_type": "markdown",
      "metadata": {
        "id": "BVXw_OpwJw5a"
      },
      "source": [
        "4. Write a program that checks if the input string contains at least one 'a'.<br>Accept amrita, ahead, algorithm, xyza. Reject problem, thinking."
      ]
    },
    {
      "cell_type": "code",
      "metadata": {
        "id": "b0U4vowxhZL4",
        "colab": {
          "base_uri": "https://localhost:8080/"
        },
        "outputId": "2a730d73-e696-4894-a6a2-0bc96ed7befb"
      },
      "source": [
        "text = input()\n",
        "n - len(text)\n",
        "for i in text:\n",
        "  if i == 'a':\n",
        "    print(\"Accepted\")\n",
        "    break\n",
        "  else:\n",
        "    print(\"Rejected\")\n",
        "    break"
      ],
      "execution_count": null,
      "outputs": [
        {
          "output_type": "stream",
          "name": "stdout",
          "text": [
            "roitbear\n",
            "Rejected\n"
          ]
        }
      ]
    },
    {
      "cell_type": "markdown",
      "metadata": {
        "id": "wX_yhZMzJtMk"
      },
      "source": [
        "5. Write a program that checks if the input string contains exactly one a.<br>Accept algorithm, iteration. Reject amrita, ahead, problem."
      ]
    },
    {
      "cell_type": "code",
      "metadata": {
        "id": "ZiSjacDkhaGx",
        "colab": {
          "base_uri": "https://localhost:8080/"
        },
        "outputId": "1d2d0839-1788-4b42-fbbe-3a2b476b6147"
      },
      "source": [
        "text = input()\n",
        "n = len(text)\n",
        "c = 0\n",
        "for i in text:\n",
        "  if i == 'a':\n",
        "    c+=1\n",
        "if c == 1:\n",
        "  print(\"Accepted\")\n",
        "else:\n",
        "  print(\"Rejected\")"
      ],
      "execution_count": null,
      "outputs": [
        {
          "output_type": "stream",
          "name": "stdout",
          "text": [
            "Amrita\n",
            "Accepted\n"
          ]
        }
      ]
    },
    {
      "cell_type": "markdown",
      "metadata": {
        "id": "I5pn3SrMJpkq"
      },
      "source": [
        "6. Write a program that checks if the input string contains two consecutive e's.<br>Accept engineer, evergreen. Reject amrita, ahead, center."
      ]
    },
    {
      "cell_type": "code",
      "metadata": {
        "colab": {
          "base_uri": "https://localhost:8080/"
        },
        "id": "Z2sYyFXCbydE",
        "outputId": "4266240f-67b7-49ab-80d0-fe8068fcd975"
      },
      "source": [
        "a = input()\n",
        "n = len(a)\n",
        "c = 0\n",
        "for i in range(n-1):\n",
        " if a[i] == 'e' and a[i + 1] == 'e' :\n",
        "    c = c + 1\n",
        "    if c <=  1:\n",
        "      print('Accepted')\n",
        "      break\n",
        "else:\n",
        "      print('Rejected')"
      ],
      "execution_count": null,
      "outputs": [
        {
          "output_type": "stream",
          "name": "stdout",
          "text": [
            "doctor\n",
            "Rejected\n"
          ]
        }
      ]
    },
    {
      "cell_type": "markdown",
      "metadata": {
        "id": "OUYeRZ-iJmLa"
      },
      "source": [
        "7. Write a program that checks if the input string does not contain two consecutive e's.<br>Accept amrita, ahead, center. Reject see, meet. "
      ]
    },
    {
      "cell_type": "code",
      "metadata": {
        "id": "rIVP5YXRhbsh",
        "colab": {
          "base_uri": "https://localhost:8080/"
        },
        "outputId": "5039c7b9-f155-4537-cb02-660d20945a86"
      },
      "source": [
        "a = input()\n",
        "n = len(a)\n",
        "c = 0\n",
        "for i in range(n-1):\n",
        " if a[i] == 'e' and a[i + 1] == 'e' :\n",
        "    c = c + 1\n",
        "    if c <=  1:\n",
        "      print('Rejected')\n",
        "      break\n",
        "else:\n",
        "      print('Accepted')"
      ],
      "execution_count": null,
      "outputs": [
        {
          "output_type": "stream",
          "name": "stdout",
          "text": [
            "code\n",
            "Accepted\n"
          ]
        }
      ]
    },
    {
      "cell_type": "markdown",
      "metadata": {
        "id": "5dhfqsDcJijD"
      },
      "source": [
        "8. Write a program that checks if the input string contains at most two e's.<br>Accept amrita, ahead, center, green. Reject evergreen, ensemble."
      ]
    },
    {
      "cell_type": "code",
      "metadata": {
        "id": "rAI19HSUhcUA",
        "colab": {
          "base_uri": "https://localhost:8080/"
        },
        "outputId": "d35dcb6a-f84f-403b-e324-2aa452b59cbf"
      },
      "source": [
        "a = input()\n",
        "c = 0 \n",
        "for i in (a):\n",
        "  if i == \"e\":\n",
        "   c = c + 1\n",
        "if c <= 2:\n",
        "    print(\"Accepted\")\n",
        "else:\n",
        "      print(\"Rejected\")\n"
      ],
      "execution_count": null,
      "outputs": [
        {
          "output_type": "stream",
          "name": "stdout",
          "text": [
            "circle\n",
            "Accepted\n"
          ]
        }
      ]
    },
    {
      "cell_type": "markdown",
      "metadata": {
        "id": "GFIvH_gyJb_s"
      },
      "source": [
        "9. Write a program that checks if the input string contains two u's and three b's.<br>Accept ububb, bubblegum. Reject umbrella, bubble, gum"
      ]
    },
    {
      "cell_type": "code",
      "metadata": {
        "id": "LzUxNjI2hdnR",
        "colab": {
          "base_uri": "https://localhost:8080/"
        },
        "outputId": "78d87bf9-ecaf-472e-d56d-b75e7db43d3b"
      },
      "source": [
        "a = input()\n",
        "c=0\n",
        "d=0\n",
        "for i in (a):\n",
        "  if i=='u':\n",
        "    c = c + 1\n",
        "  elif i == 'b':\n",
        "      d = d + 1\n",
        "if c == 2 and d == 3 :\n",
        "        print('Accepted')\n",
        "else:\n",
        "          print('Rejected')\n"
      ],
      "execution_count": null,
      "outputs": [
        {
          "output_type": "stream",
          "name": "stdout",
          "text": [
            "chewing gum\n",
            "Rejected\n"
          ]
        }
      ]
    },
    {
      "cell_type": "markdown",
      "metadata": {
        "id": "LPPk95QQJYQ6"
      },
      "source": [
        "10. Write a program that checks if the input string contains even number of e's.<br>Accept center, evergreen. Reject amrita, ahead, engineer."
      ]
    },
    {
      "cell_type": "code",
      "metadata": {
        "id": "ZI9BWUn6hedg",
        "colab": {
          "base_uri": "https://localhost:8080/"
        },
        "outputId": "c313aa78-816b-49d3-b921-cc59492c62a8"
      },
      "source": [
        "a = input()\n",
        "c = 0\n",
        "for i in a:\n",
        "  if i ==\"e\":\n",
        "    c = c + 1\n",
        "if c % 2 ==0:\n",
        " print('Accepted')\n",
        "else:\n",
        "   print(\"Rejected\")"
      ],
      "execution_count": null,
      "outputs": [
        {
          "output_type": "stream",
          "name": "stdout",
          "text": [
            "amrita\n",
            "Accepted\n"
          ]
        }
      ]
    },
    {
      "cell_type": "markdown",
      "metadata": {
        "id": "GtJXT4DSJUt7"
      },
      "source": [
        "11. Write a program that checks if every e in the input string is followed by two s's.<br>Accept success, less, esspresso. Reject ahead, express."
      ]
    },
    {
      "cell_type": "code",
      "metadata": {
        "id": "pAYjGrg0hfHB",
        "colab": {
          "base_uri": "https://localhost:8080/"
        },
        "outputId": "9512d225-7322-4b45-c70d-0005366fe3c0"
      },
      "source": [
        "a = input()\n",
        "n = len(a)\n",
        "c = 0\n",
        "d = 0\n",
        "for i in range (n):\n",
        "  if a[i] == \"e\":\n",
        "    d = d + 1\n",
        "    if a[i + 1] == \"s\" :\n",
        "     if a[i + 2]==\"s\":\n",
        "      c = c + 1\n",
        "    if c>=1 and d==c:\n",
        "      print(\"Accepted\")\n",
        "    else:\n",
        "        print(\"Rejected\") "
      ],
      "execution_count": null,
      "outputs": [
        {
          "output_type": "stream",
          "name": "stdout",
          "text": [
            "inferno\n",
            "Rejected\n"
          ]
        }
      ]
    },
    {
      "cell_type": "markdown",
      "metadata": {
        "id": "iJRlbp8gJQxD"
      },
      "source": [
        "12. Write a program that checks if every e in the input string is preceded by two cc's.<br>Accept success. Reject excess."
      ]
    },
    {
      "cell_type": "code",
      "metadata": {
        "id": "RPYEY1bphf2y",
        "colab": {
          "base_uri": "https://localhost:8080/"
        },
        "outputId": "baeb7049-cca2-47cc-b94b-71ce198a6cb2"
      },
      "source": [
        "a = input()\n",
        "n = len(a)\n",
        "c = 0\n",
        "d = 0\n",
        "for i in range(n-1):\n",
        " if a[i] == \"e\":\n",
        "  d = d + 1\n",
        "  if a[i - 1] ==\"c\" and a[i -2] == \"c\":\n",
        "    c = c + 1\n",
        "if c >= 1 and c == d:\n",
        "      print(\"Accepted\")\n",
        "else:\n",
        "        print(\"Rejected\")"
      ],
      "execution_count": null,
      "outputs": [
        {
          "output_type": "stream",
          "name": "stdout",
          "text": [
            "completed\n",
            "Rejected\n"
          ]
        }
      ]
    },
    {
      "cell_type": "markdown",
      "metadata": {
        "id": "JcMvp5yxJMy7"
      },
      "source": [
        "13. Write a program that checks if every a in the input string is preceded by two b's and followed by three c's.<br>Accept bbaccc, xbbacccyzbbaccc. Reject bxbaccc, bbacc, baccc."
      ]
    },
    {
      "cell_type": "code",
      "metadata": {
        "id": "x2NLdJbfhgkj",
        "colab": {
          "base_uri": "https://localhost:8080/"
        },
        "outputId": "8a0157dc-97a7-4b0a-ecfc-9213aab1e279"
      },
      "source": [
        "a = input()\n",
        "n =len(a)\n",
        "c = 0\n",
        "d = 0\n",
        "for i in range(n-1):\n",
        " if a[i] == 'a':\n",
        "  d = d + 1\n",
        " if a[i - 1] =='b' and a[i - 2] == 'b' and a[i + 1] == 'c' and a[i + 2] == 'c':\n",
        "  c = c + 1\n",
        "if c >= 1 and c == d :\n",
        "    print('Accepted')\n",
        "else:\n",
        "      print('Rejected')"
      ],
      "execution_count": null,
      "outputs": [
        {
          "output_type": "stream",
          "name": "stdout",
          "text": [
            "eeeeeeeee\n",
            "Rejected\n"
          ]
        }
      ]
    },
    {
      "cell_type": "markdown",
      "metadata": {
        "id": "qGhf1Zx_JJAD"
      },
      "source": [
        "14. Write a program that checks if the input string of even length is a palindrome.<br>Accept amma, malayyalam. Reject ahead, malayalam."
      ]
    },
    {
      "cell_type": "code",
      "metadata": {
        "id": "7uDXV8NehhUB",
        "colab": {
          "base_uri": "https://localhost:8080/"
        },
        "outputId": "b505fdfb-3e9a-4c33-c688-58af766085bb"
      },
      "source": [
        "a = input()\n",
        "n = len(a)\n",
        "if n % 2 == 0:\n",
        " if a == a[::-1]:\n",
        "    print('Accepted')\n",
        "else:\n",
        "    print('Rejected')"
      ],
      "execution_count": null,
      "outputs": [
        {
          "name": "stdout",
          "output_type": "stream",
          "text": [
            "telugu\n"
          ]
        }
      ]
    },
    {
      "cell_type": "markdown",
      "metadata": {
        "id": "Ik56e8T-I6yR"
      },
      "source": [
        "15. Write a program that checks if the input string is a palindrome.<br>Accept amma, malayalam, redivider. Reject ahead."
      ]
    },
    {
      "cell_type": "code",
      "metadata": {
        "id": "U4fS1sebhiFJ",
        "colab": {
          "base_uri": "https://localhost:8080/"
        },
        "outputId": "4f7f53ea-33fc-4ab0-8830-00e13bea89c3"
      },
      "source": [
        "'a = input()\n",
        "if a == a[::-1]:\n",
        "    print('Accepted')\n",
        "else:\n",
        "    print('Rejected')\n"
      ],
      "execution_count": null,
      "outputs": [
        {
          "output_type": "stream",
          "name": "stdout",
          "text": [
            "redivider\n",
            "Accepted\n"
          ]
        }
      ]
    },
    {
      "cell_type": "markdown",
      "metadata": {
        "id": "-aamQxi2I04l"
      },
      "source": [
        "\n",
        "16. Write a program that counts and prints the number of vowels in the input string.<br>europe --> 4, amrita --> 3."
      ]
    },
    {
      "cell_type": "code",
      "metadata": {
        "id": "lKVdMQxmhiq5",
        "colab": {
          "base_uri": "https://localhost:8080/"
        },
        "outputId": "0e93b6b4-fc3c-4573-f8e6-59baf4a447e5"
      },
      "source": [
        "a = input('')\n",
        "c = 0\n",
        "for i in a:\n",
        " if i == 'a' or   i == 'e' or   i == 'i' or   i == 'o' or   i == 'u' :\n",
        "    c = c + 1\n",
        "print(c)"
      ],
      "execution_count": null,
      "outputs": [
        {
          "output_type": "stream",
          "name": "stdout",
          "text": [
            "india\n",
            "3\n"
          ]
        }
      ]
    },
    {
      "cell_type": "markdown",
      "metadata": {
        "id": "Y7I7vIItIwvs"
      },
      "source": [
        "17. Write a program that checks if the number of a's in the input string is equal to the number of b's.<br>Accept aaabbb, ababab, abcabcabc. Reject abacab, ahead."
      ]
    },
    {
      "cell_type": "code",
      "metadata": {
        "id": "vdqpeAPahjdx",
        "colab": {
          "base_uri": "https://localhost:8080/"
        },
        "outputId": "dada1cc1-f990-40ca-fcb0-785fc89e0eca"
      },
      "source": [
        "a = input()\n",
        "c = 0\n",
        "d = 0\n",
        "for i in a:\n",
        "  if i == 'a':\n",
        "    c = c + 1\n",
        "  elif i == 'b':\n",
        "      d = d + 1\n",
        "if c == d:\n",
        "        print('Accepted')\n",
        "else: \n",
        "        print('Rejected')"
      ],
      "execution_count": null,
      "outputs": [
        {
          "output_type": "stream",
          "name": "stdout",
          "text": [
            "haaaaa\n",
            "Rejected\n"
          ]
        }
      ]
    },
    {
      "cell_type": "markdown",
      "metadata": {
        "id": "m7Ldyt5EIjVp"
      },
      "source": [
        "18. Write a program that checks (i) if the input string length is even, it should contain exactly two vowels (ii) if length is odd, it should contain odd number of vowels.<br>Accept team, tiktok, ahead. Reject amrita, online, graduate."
      ]
    },
    {
      "cell_type": "code",
      "metadata": {
        "id": "gWkXvaOMhkPz",
        "colab": {
          "base_uri": "https://localhost:8080/"
        },
        "outputId": "29cf93a8-a698-4157-9cbd-87e167d31313"
      },
      "source": [
        "a = input()\n",
        "b = len(a)\n",
        "c = 0\n",
        "d = 0\n",
        "for i in a :\n",
        "  if b % 2 == 0:\n",
        "    if i == 'a' or i == 'e' or i == 'i' or i == 'o' or i == 'u':\n",
        "      c = c + 1\n",
        "      continue\n",
        "    if c == 2:\n",
        "      print('Accepted')\n",
        "      break\n",
        "    else:\n",
        "      print('Rejected')\n",
        "      break\n",
        "  else:\n",
        "    if i == 'a' or i == 'e' or i == 'i' or i == 'o' or i == 'u':\n",
        "      d = d + 1\n",
        "      continue\n",
        "    if d % 2== 0:\n",
        "       print('Rejected')\n",
        "    else:\n",
        "        print('Accepted')\n",
        "        break"
      ],
      "execution_count": null,
      "outputs": [
        {
          "output_type": "stream",
          "name": "stdout",
          "text": [
            "graduate \n",
            "Rejected\n",
            "Rejected\n",
            "Accepted\n"
          ]
        }
      ]
    },
    {
      "cell_type": "markdown",
      "metadata": {
        "id": "W0_TUVOCIfB7"
      },
      "source": [
        "19. Write a program that checks if two input strings are same.<br> Accept [amrita,amrita], [ahead,ahead]. Reject [amrita,ahead]."
      ]
    },
    {
      "cell_type": "code",
      "metadata": {
        "id": "jOhNu0M9hlSi",
        "colab": {
          "base_uri": "https://localhost:8080/"
        },
        "outputId": "1f8bd60b-7f72-44fd-a15c-9f51d414c2b6"
      },
      "source": [
        "a , b = input().split()\n",
        "c = len(a)\n",
        "d = len(b)\n",
        "l = 0\n",
        "if c == d:\n",
        "  for i in a:\n",
        "    for j in b :\n",
        "      if i == j:\n",
        "        l = l + 1\n",
        "if l > 1:\n",
        "          print('Accpeted')\n",
        "else:\n",
        "            print('Rejected')\n",
        "\n"
      ],
      "execution_count": null,
      "outputs": [
        {
          "output_type": "stream",
          "name": "stdout",
          "text": [
            "hemanth heamnth\n",
            "Accpeted\n"
          ]
        }
      ]
    },
    {
      "cell_type": "markdown",
      "metadata": {
        "id": "hDaDuEgWIGYV"
      },
      "source": [
        "20. Write a program that checks if two input strings are anagrams.<br>Accept [trace,react], [dealer,leader]. Reject [amrita,ahead]"
      ]
    },
    {
      "cell_type": "code",
      "metadata": {
        "id": "3w3618F4hmrR",
        "colab": {
          "base_uri": "https://localhost:8080/"
        },
        "outputId": "5f7f491c-ed17-41db-c836-05eb59c57e84"
      },
      "source": [
        " a , b = input().split()\n",
        "if sorted(a) == sorted(b):\n",
        "  print('Accepted')\n",
        "else:\n",
        "    print('Rejected')"
      ],
      "execution_count": null,
      "outputs": [
        {
          "output_type": "stream",
          "name": "stdout",
          "text": [
            "hemanth ahead\n",
            "Rejected\n"
          ]
        }
      ]
    }
  ]
}