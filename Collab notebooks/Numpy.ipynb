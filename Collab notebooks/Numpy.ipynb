{
  "nbformat": 4,
  "nbformat_minor": 0,
  "metadata": {
    "colab": {
      "name": "Numpy.ipynb",
      "provenance": [],
      "collapsed_sections": []
    },
    "kernelspec": {
      "name": "python3",
      "display_name": "Python 3"
    },
    "language_info": {
      "name": "python"
    }
  },
  "cells": [
    {
      "cell_type": "code",
      "metadata": {
        "colab": {
          "base_uri": "https://localhost:8080/"
        },
        "id": "djqflYD9LK50",
        "outputId": "39198474-49be-48be-c72b-d7f44678988d"
      },
      "source": [
        "import numpy as np\n",
        "myPythonList = [1,9,8,3]\n",
        "print(myPythonList) "
      ],
      "execution_count": null,
      "outputs": [
        {
          "output_type": "stream",
          "name": "stdout",
          "text": [
            "[1, 9, 8, 3]\n"
          ]
        }
      ]
    },
    {
      "cell_type": "code",
      "metadata": {
        "colab": {
          "base_uri": "https://localhost:8080/"
        },
        "id": "DDQ-wcf5MxmK",
        "outputId": "d15afb28-5965-4771-816f-75b795b9a61f"
      },
      "source": [
        "import numpy as np\n",
        "a=np.array([[1,2,3],[5,6,7]])\n",
        "print(a.shape)"
      ],
      "execution_count": null,
      "outputs": [
        {
          "output_type": "stream",
          "name": "stdout",
          "text": [
            "(2, 3)\n"
          ]
        }
      ]
    },
    {
      "cell_type": "code",
      "metadata": {
        "colab": {
          "base_uri": "https://localhost:8080/"
        },
        "id": "njRL-dedRaFx",
        "outputId": "4210d058-3189-488a-8989-40eb52ce9154"
      },
      "source": [
        "import numpy as np\n",
        "a=np.array([[1,2,3],[5,6,7]])\n",
        "b=np.eye(3)\n",
        "print(b)"
      ],
      "execution_count": null,
      "outputs": [
        {
          "output_type": "stream",
          "name": "stdout",
          "text": [
            "[[1. 0. 0.]\n",
            " [0. 1. 0.]\n",
            " [0. 0. 1.]]\n"
          ]
        }
      ]
    },
    {
      "cell_type": "code",
      "metadata": {
        "colab": {
          "base_uri": "https://localhost:8080/"
        },
        "id": "tlo0X3pHSXed",
        "outputId": "82233b8f-b895-41ae-d330-d767c7731c97"
      },
      "source": [
        "import numpy as np\n",
        "a=np.random.random((2,3))\n",
        "print(a)"
      ],
      "execution_count": null,
      "outputs": [
        {
          "output_type": "stream",
          "name": "stdout",
          "text": [
            "[[0.11121219 0.22988402 0.82162519]\n",
            " [0.96201764 0.9092232  0.50734865]]\n"
          ]
        }
      ]
    }
  ]
}