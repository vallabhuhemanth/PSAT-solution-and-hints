{
  "nbformat": 4,
  "nbformat_minor": 0,
  "metadata": {
    "colab": {
      "name": "python basics.ipynb",
      "provenance": []
    },
    "kernelspec": {
      "name": "python3",
      "display_name": "Python 3"
    },
    "language_info": {
      "name": "python"
    }
  },
  "cells": [
    {
      "cell_type": "code",
      "metadata": {
        "colab": {
          "base_uri": "https://localhost:8080/"
        },
        "id": "15a5jCHIVLsL",
        "outputId": "0f4f33ca-40b6-451d-f29c-53022f094802"
      },
      "source": [
        "print('Hello Hemanth')"
      ],
      "execution_count": null,
      "outputs": [
        {
          "output_type": "stream",
          "name": "stdout",
          "text": [
            "Hello Hemanth\n"
          ]
        }
      ]
    },
    {
      "cell_type": "code",
      "metadata": {
        "colab": {
          "base_uri": "https://localhost:8080/"
        },
        "id": "3LaVZqeoVqj3",
        "outputId": "a914925a-7567-4399-cb66-b54bf85079ef"
      },
      "source": [
        "print('Hello', 'Hemanth')"
      ],
      "execution_count": null,
      "outputs": [
        {
          "output_type": "stream",
          "name": "stdout",
          "text": [
            "Hello Hemanth\n"
          ]
        }
      ]
    },
    {
      "cell_type": "code",
      "metadata": {
        "colab": {
          "base_uri": "https://localhost:8080/"
        },
        "id": "vTBYvfXvVxCr",
        "outputId": "3424b503-2d88-4b1a-eb1c-024bd4d19e8e"
      },
      "source": [
        "print('Hello', 'Hemanth', sep='---')"
      ],
      "execution_count": null,
      "outputs": [
        {
          "output_type": "stream",
          "name": "stdout",
          "text": [
            "Hello---Hemanth\n"
          ]
        }
      ]
    },
    {
      "cell_type": "code",
      "metadata": {
        "colab": {
          "base_uri": "https://localhost:8080/"
        },
        "id": "uB_oLXB9V25x",
        "outputId": "53cad80f-9e9a-4cb2-9ad9-6abd23bf534c"
      },
      "source": [
        "print('Hello')\n",
        "print('Hemanth')"
      ],
      "execution_count": null,
      "outputs": [
        {
          "output_type": "stream",
          "name": "stdout",
          "text": [
            "Hello\n",
            "Hemanth\n"
          ]
        }
      ]
    },
    {
      "cell_type": "code",
      "metadata": {
        "colab": {
          "base_uri": "https://localhost:8080/"
        },
        "id": "Kna053oYV70b",
        "outputId": "b31f3571-a9bf-4346-fcf9-24b691a2f448"
      },
      "source": [
        "print('Hello\\nHemanth')"
      ],
      "execution_count": null,
      "outputs": [
        {
          "output_type": "stream",
          "name": "stdout",
          "text": [
            "Hello\n",
            "Hemanth\n"
          ]
        }
      ]
    },
    {
      "cell_type": "code",
      "metadata": {
        "colab": {
          "base_uri": "https://localhost:8080/"
        },
        "id": "Sqmwq1zxWDLb",
        "outputId": "59e4381d-9ed3-45bd-9cab-6aa3331195db"
      },
      "source": [
        "print('Hello\\tHemanth')"
      ],
      "execution_count": null,
      "outputs": [
        {
          "output_type": "stream",
          "name": "stdout",
          "text": [
            "Hello\tHemanth\n"
          ]
        }
      ]
    },
    {
      "cell_type": "code",
      "metadata": {
        "colab": {
          "base_uri": "https://localhost:8080/"
        },
        "id": "oarhAej0WHMh",
        "outputId": "efe59563-0a22-4662-9ba8-d3cb4cd48d63"
      },
      "source": [
        "print(1234567890)"
      ],
      "execution_count": null,
      "outputs": [
        {
          "output_type": "stream",
          "name": "stdout",
          "text": [
            "1234567890\n"
          ]
        }
      ]
    },
    {
      "cell_type": "code",
      "metadata": {
        "colab": {
          "base_uri": "https://localhost:8080/"
        },
        "id": "ZZvavpziWlwb",
        "outputId": "7677ef4c-e4f0-4972-b235-d5e039788215"
      },
      "source": [
        "print(9.14)"
      ],
      "execution_count": null,
      "outputs": [
        {
          "output_type": "stream",
          "name": "stdout",
          "text": [
            "9.14\n"
          ]
        }
      ]
    },
    {
      "cell_type": "code",
      "metadata": {
        "colab": {
          "base_uri": "https://localhost:8080/"
        },
        "id": "4xwE6AiwWrfA",
        "outputId": "ed395480-efa7-46e0-c21f-5efebfa4916f"
      },
      "source": [
        "radius = 60\n",
        "print(radius, type(radius))"
      ],
      "execution_count": null,
      "outputs": [
        {
          "output_type": "stream",
          "name": "stdout",
          "text": [
            "60 <class 'int'>\n"
          ]
        }
      ]
    },
    {
      "cell_type": "code",
      "metadata": {
        "colab": {
          "base_uri": "https://localhost:8080/"
        },
        "id": "0hOts_sqW3FL",
        "outputId": "0bd6e71b-d502-42f4-ac18-7c875cf14b64"
      },
      "source": [
        "pi = 9.14\n",
        "print(pi,type(pi))"
      ],
      "execution_count": null,
      "outputs": [
        {
          "output_type": "stream",
          "name": "stdout",
          "text": [
            "9.14 <class 'float'>\n"
          ]
        }
      ]
    },
    {
      "cell_type": "code",
      "metadata": {
        "colab": {
          "base_uri": "https://localhost:8080/"
        },
        "id": "XnLt1gSoW6ZF",
        "outputId": "5ccce9a1-17fa-47a2-a746-220a1cbbb68d"
      },
      "source": [
        "degree = \"B.Tech\"\n",
        "print(degree)"
      ],
      "execution_count": null,
      "outputs": [
        {
          "output_type": "stream",
          "name": "stdout",
          "text": [
            "B.Tech\n"
          ]
        }
      ]
    },
    {
      "cell_type": "code",
      "metadata": {
        "colab": {
          "base_uri": "https://localhost:8080/"
        },
        "id": "ZhbIuYnHXBRt",
        "outputId": "8fb778f2-1a46-4086-bd00-7192759031db"
      },
      "source": [
        "employed = True\n",
        "print(employed)"
      ],
      "execution_count": null,
      "outputs": [
        {
          "output_type": "stream",
          "name": "stdout",
          "text": [
            "True\n"
          ]
        }
      ]
    },
    {
      "cell_type": "code",
      "metadata": {
        "colab": {
          "base_uri": "https://localhost:8080/"
        },
        "id": "EinfuBCaXt8R",
        "outputId": "20c136f1-db6a-4a95-de0f-04cddfee93cd"
      },
      "source": [
        "name, age, height, employed = 'Bharat', 25, 5.8, True\n",
        "print(name,age,height,employed,sep=' || ')"
      ],
      "execution_count": null,
      "outputs": [
        {
          "output_type": "stream",
          "name": "stdout",
          "text": [
            "Bharat || 25 || 5.8 || True\n"
          ]
        }
      ]
    },
    {
      "cell_type": "code",
      "metadata": {
        "colab": {
          "base_uri": "https://localhost:8080/"
        },
        "id": "Jx8XYtpQXyw2",
        "outputId": "54adec34-fd1d-4513-e090-dbc284200758"
      },
      "source": [
        "name = input()\n",
        "print('Hello', name)"
      ],
      "execution_count": null,
      "outputs": [
        {
          "output_type": "stream",
          "name": "stdout",
          "text": [
            "Hemanth\n",
            "Hello Hemanth\n"
          ]
        }
      ]
    },
    {
      "cell_type": "code",
      "metadata": {
        "colab": {
          "base_uri": "https://localhost:8080/"
        },
        "id": "fhG1-rilYTyj",
        "outputId": "ba872a64-d8a5-4f02-97e1-a30f9014085f"
      },
      "source": [
        "height = float(input())\n",
        "print('The height is', height)"
      ],
      "execution_count": null,
      "outputs": [
        {
          "output_type": "stream",
          "name": "stdout",
          "text": [
            "5.9\n",
            "The height is 5.9\n"
          ]
        }
      ]
    },
    {
      "cell_type": "code",
      "metadata": {
        "colab": {
          "base_uri": "https://localhost:8080/"
        },
        "id": "oTP6L79mYc2B",
        "outputId": "0c4e8423-9056-4ef1-8cd3-3877fbab2470"
      },
      "source": [
        "employed = bool(input())\n",
        "print('Employment status =', employed)"
      ],
      "execution_count": null,
      "outputs": [
        {
          "output_type": "stream",
          "name": "stdout",
          "text": [
            "50\n",
            "Employment status = True\n"
          ]
        }
      ]
    },
    {
      "cell_type": "code",
      "metadata": {
        "colab": {
          "base_uri": "https://localhost:8080/"
        },
        "id": "35PQdcgXZBO5",
        "outputId": "7face5ce-878e-4675-bbcd-0012933a72e4"
      },
      "source": [
        "name = input()\n",
        "age = int(input())\n",
        "height = float(input())\n",
        "employed = bool(input())\n",
        "print(name, age, height, employed)"
      ],
      "execution_count": null,
      "outputs": [
        {
          "output_type": "stream",
          "name": "stdout",
          "text": [
            "Hemanth\n",
            "19\n",
            "5.8\n",
            "yes\n",
            "Hemanth 19 5.8 True\n"
          ]
        }
      ]
    },
    {
      "cell_type": "code",
      "metadata": {
        "colab": {
          "base_uri": "https://localhost:8080/"
        },
        "id": "iUmbqhYoZSJN",
        "outputId": "9c611a94-1470-43ae-b91e-358caad472b0"
      },
      "source": [
        "name, age, height, = input().split() \n",
        "print(name, age, height)\n",
        "age = int(age)\n",
        "height = float(height)\n",
        "print(name, age, height)"
      ],
      "execution_count": null,
      "outputs": [
        {
          "output_type": "stream",
          "name": "stdout",
          "text": [
            "Hemanth 19 5.7\n",
            "Hemanth 19 5.7\n",
            "Hemanth 19 5.7\n"
          ]
        }
      ]
    },
    {
      "cell_type": "code",
      "metadata": {
        "colab": {
          "base_uri": "https://localhost:8080/"
        },
        "id": "B-JGgoAmZ2YO",
        "outputId": "934d532b-d707-41dd-d7a9-757b596f9253"
      },
      "source": [
        "a, b, c, d = map(int, input().split())\n",
        "print(a,b,c,d)"
      ],
      "execution_count": null,
      "outputs": [
        {
          "output_type": "stream",
          "name": "stdout",
          "text": [
            "1 2 3 4\n",
            "1 2 3 4\n"
          ]
        }
      ]
    },
    {
      "cell_type": "code",
      "metadata": {
        "colab": {
          "base_uri": "https://localhost:8080/"
        },
        "id": "DOLqQb0PaANW",
        "outputId": "d91147cc-2b20-473b-dc66-dd1ce2675cf0"
      },
      "source": [
        "a, b = 5, 20\n",
        "sum = a + b\n",
        "diff = a - b\n",
        "product = a * b\n",
        "result = a / b\n",
        "quotient = a // b\n",
        "remainder = a % b\n",
        "power = a ** b\n",
        "print (sum, diff, product, result, quotient, remainder, power)"
      ],
      "execution_count": null,
      "outputs": [
        {
          "output_type": "stream",
          "name": "stdout",
          "text": [
            "25 -15 100 0.25 0 5 95367431640625\n"
          ]
        }
      ]
    },
    {
      "cell_type": "code",
      "metadata": {
        "colab": {
          "base_uri": "https://localhost:8080/"
        },
        "id": "9GGuSiaMaE7M",
        "outputId": "99e46557-c8cf-4863-dda2-c252ea67873a"
      },
      "source": [
        "a, b = 5, 2\n",
        "print(a == b+3)\n",
        "print(a < b)\n",
        "print(a <= b)  # <= is a single operator\n",
        "print(a > b)\n",
        "print(a >= b)\n",
        "print(a != b)"
      ],
      "execution_count": null,
      "outputs": [
        {
          "output_type": "stream",
          "name": "stdout",
          "text": [
            "True\n",
            "False\n",
            "False\n",
            "True\n",
            "True\n",
            "True\n"
          ]
        }
      ]
    },
    {
      "cell_type": "code",
      "metadata": {
        "colab": {
          "base_uri": "https://localhost:8080/"
        },
        "id": "SHwCtzyvaNBT",
        "outputId": "bca605ae-7b22-4dce-ff91-2fc7855eb18e"
      },
      "source": [
        "x, y, z = 2, 10, 7\n",
        "\n",
        "print(x < y and y < z)  # Should print False since y is not less than z\n",
        "print(x < y or y < z)  # Should print True since x is less than y\n",
        "print(not x < y)  # Should print False since x < y is True and opposite of it is False.\n",
        "print (x < y and not y < z)  # Should print true since x < y and y >= z\n",
        "# These operators play a complementary role\n",
        "print(x+y < z*2 and x*z <= y**5)"
      ],
      "execution_count": null,
      "outputs": [
        {
          "output_type": "stream",
          "name": "stdout",
          "text": [
            "False\n",
            "True\n",
            "False\n",
            "True\n",
            "True\n"
          ]
        }
      ]
    },
    {
      "cell_type": "code",
      "metadata": {
        "colab": {
          "base_uri": "https://localhost:8080/"
        },
        "id": "sWhptuKFaT4q",
        "outputId": "e80a796d-8b0c-4d36-f961-ecbb5f2ecd81"
      },
      "source": [
        "x = int(input())\n",
        "y = int(input())\n",
        "if x < y :\n",
        "  print(x,  'is less than', y)"
      ],
      "execution_count": null,
      "outputs": [
        {
          "name": "stdout",
          "output_type": "stream",
          "text": [
            "2\n",
            "2\n"
          ]
        }
      ]
    },
    {
      "cell_type": "code",
      "metadata": {
        "colab": {
          "base_uri": "https://localhost:8080/"
        },
        "id": "_ZvrpOvhakqG",
        "outputId": "ebb4b404-6efc-4525-e760-0eedb1024cc5"
      },
      "source": [
        "x = int(input())\n",
        "y = int(input())\n",
        "if x < y :\n",
        "  print(x, 'is less than', y)\n",
        "else :\n",
        "  print(x, 'is not less than', y)"
      ],
      "execution_count": null,
      "outputs": [
        {
          "output_type": "stream",
          "name": "stdout",
          "text": [
            "5\n",
            "6\n",
            "5 is less than 6\n"
          ]
        }
      ]
    },
    {
      "cell_type": "code",
      "metadata": {
        "colab": {
          "base_uri": "https://localhost:8080/"
        },
        "id": "UwdcbcgYatu8",
        "outputId": "0084853c-0102-4525-82f5-aca6517c632c"
      },
      "source": [
        "x = int(input())\n",
        "y = int(input())\n",
        "if x < y :                      # Condition 1\n",
        "  print (x, 'is less than', y)        # Branching 1\n",
        "elif x > y :                    # Condition 2\n",
        "  print (x, 'is greater than', y)     # Branching 2\n",
        "else :                          # Condition 3 (implicit)\n",
        "  print (x, 'is equal to', y)         # Branching 3"
      ],
      "execution_count": null,
      "outputs": [
        {
          "output_type": "stream",
          "name": "stdout",
          "text": [
            "6\n",
            "10\n",
            "6 is less than 10\n"
          ]
        }
      ]
    },
    {
      "cell_type": "code",
      "metadata": {
        "colab": {
          "base_uri": "https://localhost:8080/"
        },
        "id": "R-0SH6pyazGy",
        "outputId": "fd7e5155-2008-4949-9bd9-9bf0966fbb7f"
      },
      "source": [
        "x,y,z = map(int, input().split())\n",
        "\n",
        "if x < y :\n",
        "  if y < z :\n",
        "    print(x,y,z,'form a sorted sequence')\n",
        "  else :\n",
        "    print(x,y,z,'do not form a sorted sequence')\n",
        "else :\n",
        "  print(x,'is not less than', y)"
      ],
      "execution_count": null,
      "outputs": [
        {
          "output_type": "stream",
          "name": "stdout",
          "text": [
            "1 0 5\n",
            "1 is not less than 0\n"
          ]
        }
      ]
    },
    {
      "cell_type": "code",
      "metadata": {
        "colab": {
          "base_uri": "https://localhost:8080/"
        },
        "id": "NmAtxkjObIjd",
        "outputId": "8ff54284-d54f-4665-f7dd-cc70cdbdbc98"
      },
      "source": [
        "for i in range(10) :  # Start from 0, count until 9, increasing by 1 at a time\n",
        "  print('Hello Hemanth')  "
      ],
      "execution_count": null,
      "outputs": [
        {
          "output_type": "stream",
          "name": "stdout",
          "text": [
            "Hello Hemanth\n",
            "Hello Hemanth\n",
            "Hello Hemanth\n",
            "Hello Hemanth\n",
            "Hello Hemanth\n",
            "Hello Hemanth\n",
            "Hello Hemanth\n",
            "Hello Hemanth\n",
            "Hello Hemanth\n",
            "Hello Hemanth\n"
          ]
        }
      ]
    },
    {
      "cell_type": "code",
      "metadata": {
        "colab": {
          "base_uri": "https://localhost:8080/"
        },
        "id": "jkO0vMxzbNTv",
        "outputId": "b09687b6-3b9a-4550-90d6-ee53bf32d51b"
      },
      "source": [
        "n = int(input())\n",
        "for i in range(n) :   # Start from 0, count until n-1, increasing by 1 at a time\n",
        "  print('Hello Hemanth')"
      ],
      "execution_count": null,
      "outputs": [
        {
          "output_type": "stream",
          "name": "stdout",
          "text": [
            "8\n",
            "Hello Hemanth\n",
            "Hello Hemanth\n",
            "Hello Hemanth\n",
            "Hello Hemanth\n",
            "Hello Hemanth\n",
            "Hello Hemanth\n",
            "Hello Hemanth\n",
            "Hello Hemanth\n"
          ]
        }
      ]
    },
    {
      "cell_type": "code",
      "metadata": {
        "colab": {
          "base_uri": "https://localhost:8080/"
        },
        "id": "gwCQG6_abdT9",
        "outputId": "729f8fb6-cc4f-4de6-cd62-52e1a4fe36b3"
      },
      "source": [
        "n = int(input())\n",
        "for i in range(10,n+10) :   # Start from 1, go until n, taking 1 step at a time\n",
        "  print('Hello Hemanth', i)"
      ],
      "execution_count": null,
      "outputs": [
        {
          "output_type": "stream",
          "name": "stdout",
          "text": [
            "10\n",
            "Hello Hemanth 10\n",
            "Hello Hemanth 11\n",
            "Hello Hemanth 12\n",
            "Hello Hemanth 13\n",
            "Hello Hemanth 14\n",
            "Hello Hemanth 15\n",
            "Hello Hemanth 16\n",
            "Hello Hemanth 17\n",
            "Hello Hemanth 18\n",
            "Hello Hemanth 19\n"
          ]
        }
      ]
    },
    {
      "cell_type": "code",
      "metadata": {
        "colab": {
          "base_uri": "https://localhost:8080/"
        },
        "id": "qQFoHwXxbyNm",
        "outputId": "1e7447e5-69a0-411b-8bae-fdb765db7e7f"
      },
      "source": [
        "n = int(input())\n",
        "for i in range(1,n,2) :  # Start from 1, go until n-1, jumping 2 steps\n",
        "  print('Hello Hemanth', i)"
      ],
      "execution_count": null,
      "outputs": [
        {
          "output_type": "stream",
          "name": "stdout",
          "text": [
            "5\n",
            "Hello Hemanth 1\n",
            "Hello Hemanth 3\n"
          ]
        }
      ]
    },
    {
      "cell_type": "code",
      "metadata": {
        "id": "xYJK9sh8cJVU"
      },
      "source": [
        "n = int(input())\n",
        "for i in range(n) :\n",
        "  a, b = map(int, input().split())\n",
        "  if a > b :\n",
        "    print(a-b)\n",
        "  else :\n",
        "    print(b-a)"
      ],
      "execution_count": null,
      "outputs": []
    }
  ]
}